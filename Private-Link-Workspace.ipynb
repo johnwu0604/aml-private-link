{
 "cells": [
  {
   "cell_type": "markdown",
   "metadata": {},
   "source": [
    "# Create Using Portal UI\n",
    "\n",
    "**1. When creating a workspace, click on the \"Networking\" tab and select \"Private endpoint\"**\n",
    "\n",
    "![image](./screenshots/1.PNG)\n",
    "\n",
    "**2. Click \"Add\" and fill in details for the private endpoint.**\n",
    "\n",
    "![image](./screenshots/2.PNG)\n",
    "\n",
    "**3. Click \"OK\" and review the details of the private endpoint before creating the workspace.**\n",
    "\n",
    "![image](./screenshots/3.PNG)"
   ]
  },
  {
   "cell_type": "markdown",
   "metadata": {},
   "source": [
    "# Create Using Python SDK"
   ]
  },
  {
   "cell_type": "markdown",
   "metadata": {},
   "source": [
    "**1. Create [private link configuration](https://docs.microsoft.com/en-us/python/api/azureml-core/azureml.core.privateendpointconfig?view=azure-ml-py)**"
   ]
  },
  {
   "cell_type": "code",
   "execution_count": 1,
   "metadata": {},
   "outputs": [],
   "source": [
    "from azureml.core import PrivateEndPointConfig\n",
    "\n",
    "private_endpoint_config = PrivateEndPointConfig(name='my-workspace-private-link', \n",
    "                                                vnet_name='<EXISTING VNET NAME>',\n",
    "                                                vnet_subnet_name='<EXISTING SUBNET NAME>', \n",
    "                                                vnet_subscription_id='<VNET SUBSCRIPTION ID>', \n",
    "                                                vnet_resource_group='<VNET RESOURCE GROUP>')"
   ]
  },
  {
   "cell_type": "markdown",
   "metadata": {},
   "source": [
    "**2. Create [workspace](https://docs.microsoft.com/en-us/python/api/azureml-core/azureml.core.workspace(class)?view=azure-ml-py#create-name--auth-none--subscription-id-none--resource-group-none--location-none--create-resource-group-true--sku--basic---friendly-name-none--storage-account-none--key-vault-none--app-insights-none--container-registry-none--cmk-keyvault-none--resource-cmk-uri-none--hbi-workspace-false--default-cpu-compute-target-none--default-gpu-compute-target-none--private-endpoint-config-none--private-endpoint-auto-approval-true--exist-ok-false--show-output-true-)**\n",
    "\n",
    "> Note: Make sure network policies are disabled\n",
    "```\n",
    "az network vnet subnet update --name default --resource-group john --vnet-name my-vnet --disable-private-endpoint-network-policies true\n",
    "```"
   ]
  },
  {
   "cell_type": "code",
   "execution_count": 2,
   "metadata": {},
   "outputs": [
    {
     "name": "stdout",
     "output_type": "stream",
     "text": [
      "Deploying KeyVault with name myworkspkeyvault2103ec14.\n",
      "Deploying StorageAccount with name myworkspstorageff1297c94.\n",
      "Deploying AppInsights with name myworkspinsightsd458ab38.\n",
      "Deployed AppInsights with name myworkspinsightsd458ab38. Took 6.57 seconds.\n",
      "Deployed StorageAccount with name myworkspstorageff1297c94. Took 23.71 seconds.\n",
      "Deployed KeyVault with name myworkspkeyvault2103ec14. Took 30.74 seconds.\n",
      "Deploying Workspace with name my-workspace.\n",
      "Deployed Workspace with name my-workspace. Took 28.17 seconds.\n",
      "Deploying PrivateEndPoint with name my-workspace-private-link.\n",
      "Deploying PrivateDnsZone with name PrivateDns-56133b02-0771-4e98-b568-9e9459534237.\n",
      "Deployed PrivateEndPoint with name my-workspace-private-link. Took 47.5 seconds.\n",
      "Deployed PrivateDnsZone with name PrivateDns-56133b02-0771-4e98-b568-9e9459534237. Took 77.35 seconds.\n"
     ]
    }
   ],
   "source": [
    "from azureml.core import Workspace\n",
    "\n",
    "workspace = Workspace.create(name='my-workspace',\n",
    "                            subscription_id='<WORKSPACE SUBSCRIPTION ID>',\n",
    "                            resource_group='<WORKSPACE RESOURCE GROUP>',\n",
    "                            location='<WORKSPACE LOCATION>',\n",
    "                            private_endpoint_config=private_endpoint_config,\n",
    "                            private_endpoint_auto_approval=True)"
   ]
  },
  {
   "cell_type": "markdown",
   "metadata": {},
   "source": [
    "## Create Using Azure CLI"
   ]
  },
  {
   "cell_type": "markdown",
   "metadata": {},
   "source": [
    "**Run the following Azure CLI [workspace create](https://docs.microsoft.com/en-us/cli/azure/ext/azure-cli-ml/ml/workspace?view=azure-cli-latest#ext-azure-cli-ml-az-ml-workspace-create) command:**\n",
    "\n",
    "```\n",
    "az ml workspace create --workspace-name my-workspace --resource-group <RESOURCE GROUP> --location <WORKSPACE LOCATION> --pe-vnet-name my-workspace-private-link --pe-vnet-name <EXISTING VNET NAME> --pe-subnet-name <EXISTING SUBNET NAME> --pe-subscription-id <VNET SUBSCRIPTION ID> --pe-resource-group <VNET RESOURCE GROUP> --pe-auto-approval\n",
    "```"
   ]
  }
 ],
 "metadata": {
  "kernelspec": {
   "display_name": "Python 3.6 - AzureML",
   "language": "python",
   "name": "python3-azureml"
  },
  "language_info": {
   "codemirror_mode": {
    "name": "ipython",
    "version": 3
   },
   "file_extension": ".py",
   "mimetype": "text/x-python",
   "name": "python",
   "nbconvert_exporter": "python",
   "pygments_lexer": "ipython3",
   "version": "3.6.9"
  }
 },
 "nbformat": 4,
 "nbformat_minor": 4
}
